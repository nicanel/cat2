import javax.swing.*;
import java.awt.*;
import java.awt.event.*;
import java.sql.*;

public class UserDetailsForm extends JFrame {
    
    private JTextField nameField, mobileField, dobField, addressField;
    private JComboBox<String> genderComboBox;
    private JTextArea displayArea;
    private JButton submitButton;

    private Connection connection;

    public UserDetailsForm() {
        
        setTitle("User Details Form");
        setSize(500, 400);
        setDefaultCloseOperation(JFrame.EXIT_ON_CLOSE);
        setLayout(new BorderLayout());

        JPanel formPanel = new JPanel();
        formPanel.setLayout(new GridLayout(6, 2, 10, 10));

        formPanel.add(new JLabel("Name:"));
        nameField = new JTextField();
        formPanel.add(nameField);

        formPanel.add(new JLabel("Mobile:"));
        mobileField = new JTextField();
        formPanel.add(mobileField);

        formPanel.add(new JLabel("Gender:"));
        genderComboBox = new JComboBox<>(new String[] {"Male", "Female", "Other"});
        formPanel.add(genderComboBox);

        formPanel.add(new JLabel("Date of Birth:"));
        dobField = new JTextField();
        formPanel.add(dobField);

        formPanel.add(new JLabel("Address:"));
        addressField = new JTextField();
        formPanel.add(addressField);

        submitButton = new JButton("Submit");
        submitButton.addActionListener(new SubmitButtonListener());

        displayArea = new JTextArea(20, 30);
        displayArea.setEditable(false);
        JScrollPane scrollPane = new JScrollPane(displayArea);

        add(formPanel, BorderLayout.WEST);
        add(scrollPane, BorderLayout.CENTER);
        add(submitButton, BorderLayout.SOUTH);

        connectToDatabase();

        setVisible(true);
    }

    private void connectToDatabase() {
        try {

            String url = "jdbc:mysql://host:3306/user_details";
            String username = "root";  
            String password = "password";
            connection = DriverManager.getConnection(url, username, password);
        } catch (SQLException e) {
            JOptionPane.showMessageDialog(this, "Database connection failed: " + e.getMessage());
        }
    }

    private class SubmitButtonListener implements ActionListener {
        @Override
        public void actionPerformed(ActionEvent e) {
            
            String name = nameField.getText();
            String mobile = mobileField.getText();
            String gender = (String) genderComboBox.getSelectedItem();
            String dob = dobField.getText();
            String address = addressField.getText();

            try {
                String query = "INSERT INTO user_info (name, mobile, gender, dob, address) VALUES (?, ?, ?, ?, ?)";
                PreparedStatement statement = connection.prepareStatement(query);
                statement.setString(1, name);
                statement.setString(2, mobile);
                statement.setString(3, gender);
                statement.setString(4, dob);
                statement.setString(5, address);
                statement.executeUpdate();

                displayArea.setText("Data Saved Successfully!\n");
                displayArea.append("Name: " + name + "\n");
                displayArea.append("Mobile: " + mobile + "\n");
                displayArea.append("Gender: " + gender + "\n");
                displayArea.append("Date of Birth: " + dob + "\n");
                displayArea.append("Address: " + address + "\n");

                nameField.setText("");
                mobileField.setText("");
                dobField.setText("");
                addressField.setText("");
            } catch (SQLException ex) {
                JOptionPane.showMessageDialog(UserDetailsForm.this, "Error: " + ex.getMessage());
            }
        }
    }

    public static void main(String[] args) {
        SwingUtilities.invokeLater(() -> new UserDetailsForm());
    }
}